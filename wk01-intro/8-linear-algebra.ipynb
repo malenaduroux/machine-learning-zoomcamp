{
 "cells": [
  {
   "cell_type": "code",
   "execution_count": 2,
   "id": "725071c1-de63-4b33-98b9-c71eeebdd0e3",
   "metadata": {},
   "outputs": [],
   "source": [
    "import numpy as np"
   ]
  },
  {
   "cell_type": "markdown",
   "id": "13e57098-f3ac-4749-a291-b7ad69244da7",
   "metadata": {},
   "source": [
    "#### Vector-Vector Multiplication"
   ]
  },
  {
   "cell_type": "code",
   "execution_count": 3,
   "id": "47ba0112-ed09-478d-984d-71ac4944afc2",
   "metadata": {},
   "outputs": [],
   "source": [
    "u = np.array([2, 4, 5, 6])\n",
    "v = np.array([1, 0, 0, 2])"
   ]
  },
  {
   "cell_type": "code",
   "execution_count": 4,
   "id": "db469dc3-62a7-470e-9aea-59eb6d3798bf",
   "metadata": {},
   "outputs": [
    {
     "data": {
      "text/plain": [
       "(4,)"
      ]
     },
     "execution_count": 4,
     "metadata": {},
     "output_type": "execute_result"
    }
   ],
   "source": [
    "u.shape"
   ]
  },
  {
   "cell_type": "code",
   "execution_count": 5,
   "id": "8808aabd-73a8-486b-9891-a5f1de75ac5e",
   "metadata": {},
   "outputs": [],
   "source": [
    "def vector_vector_multiplication(u, v):\n",
    "    assert u.shape[0] == v.shape[0] #make sure vectors are same size\n",
    "    \n",
    "    n = u.shape[0]\n",
    "    result = 0.0\n",
    "    \n",
    "    for i in range(n):\n",
    "        result = result + u[i] * v[i]\n",
    "\n",
    "    return result"
   ]
  },
  {
   "cell_type": "code",
   "execution_count": 6,
   "id": "c9a18b7e-ff9a-4de0-8c38-03d5598c793c",
   "metadata": {},
   "outputs": [
    {
     "data": {
      "text/plain": [
       "np.float64(14.0)"
      ]
     },
     "execution_count": 6,
     "metadata": {},
     "output_type": "execute_result"
    }
   ],
   "source": [
    "vector_vector_multiplication(u, v)"
   ]
  },
  {
   "cell_type": "code",
   "execution_count": 7,
   "id": "57bd9999-822b-42bb-8900-2f3a0804fcfe",
   "metadata": {},
   "outputs": [
    {
     "data": {
      "text/plain": [
       "np.int64(14)"
      ]
     },
     "execution_count": 7,
     "metadata": {},
     "output_type": "execute_result"
    }
   ],
   "source": [
    "u.dot(v)"
   ]
  },
  {
   "cell_type": "markdown",
   "id": "29a446c9-a4ed-447a-8ccf-03635049df98",
   "metadata": {},
   "source": [
    "#### Matrix-Vector Multiplication"
   ]
  },
  {
   "cell_type": "code",
   "execution_count": 8,
   "id": "42400d53-199a-4955-aa44-b798d9976083",
   "metadata": {},
   "outputs": [],
   "source": [
    "U = np.array([\n",
    "    [2, 4, 5, 6],\n",
    "    [1, 2, 1, 2],\n",
    "    [3, 1, 2, 1]\n",
    "])"
   ]
  },
  {
   "cell_type": "code",
   "execution_count": 9,
   "id": "b490f4d4-86a2-4126-a667-21d720c5ac43",
   "metadata": {},
   "outputs": [],
   "source": [
    "v = np.array([1, 0.5, 2, 1])"
   ]
  },
  {
   "cell_type": "code",
   "execution_count": 10,
   "id": "04015b07-a4db-47a6-b60a-263581b506aa",
   "metadata": {},
   "outputs": [
    {
     "data": {
      "text/plain": [
       "array([20. ,  6. ,  8.5])"
      ]
     },
     "execution_count": 10,
     "metadata": {},
     "output_type": "execute_result"
    }
   ],
   "source": [
    "def matrix_vector_multiplication(U, v):\n",
    "    assert U.shape[1] == v.shape[0]\n",
    "\n",
    "    k = U.shape[0]\n",
    "    result = np.zeros(k)\n",
    "\n",
    "    for i in range(k):\n",
    "        result[i] = vector_vector_multiplication(U[i], v)\n",
    "\n",
    "    return result\n",
    "\n",
    "matrix_vector_multiplication(U, v)"
   ]
  },
  {
   "cell_type": "markdown",
   "id": "49e555fd-823a-4168-875d-f14100e4513a",
   "metadata": {},
   "source": [
    "#### Matrix-Matrix Multiplication"
   ]
  },
  {
   "cell_type": "code",
   "execution_count": 11,
   "id": "abee7239-449a-47a4-83d0-d1e3395b4408",
   "metadata": {},
   "outputs": [
    {
     "data": {
      "text/plain": [
       "array([[2, 4, 5, 6],\n",
       "       [1, 2, 1, 2],\n",
       "       [3, 1, 2, 1]])"
      ]
     },
     "execution_count": 11,
     "metadata": {},
     "output_type": "execute_result"
    }
   ],
   "source": [
    "U"
   ]
  },
  {
   "cell_type": "code",
   "execution_count": 12,
   "id": "8905b82d-8ee3-485a-90df-d011a11efeeb",
   "metadata": {},
   "outputs": [],
   "source": [
    "V = np.array([\n",
    "    [1, 1, 2],\n",
    "    [0, 0.5, 1],\n",
    "    [0, 2, 1],\n",
    "    [2, 1, 0]\n",
    "])"
   ]
  },
  {
   "cell_type": "code",
   "execution_count": 13,
   "id": "58fec903-3e00-4e3f-a644-f0d1f6a1dafc",
   "metadata": {},
   "outputs": [],
   "source": [
    " def matrix_matrix_multiplication(U, V):\n",
    "     assert U.shape[1] == V.shape[0]\n",
    "\n",
    "     num_rows = U.shape[0]\n",
    "     num_cols = V.shape[1]\n",
    "     result = np.zeros((num_rows, num_cols))\n",
    "\n",
    "     for i in range(num_cols):\n",
    "         vi = V[:, i]\n",
    "\n",
    "         Uvi = matrix_vector_multiplication(U, vi)\n",
    "         result[:, i] = Uvi"
   ]
  },
  {
   "cell_type": "markdown",
   "id": "490f3516",
   "metadata": {},
   "source": [
    "Identity  Matrix"
   ]
  },
  {
   "cell_type": "code",
   "execution_count": 20,
   "id": "d86207b0",
   "metadata": {},
   "outputs": [
    {
     "data": {
      "text/plain": [
       "array([[1., 0., 0.],\n",
       "       [0., 1., 0.],\n",
       "       [0., 0., 1.]])"
      ]
     },
     "execution_count": 20,
     "metadata": {},
     "output_type": "execute_result"
    }
   ],
   "source": [
    "I = np.eye(3)\n",
    "I"
   ]
  },
  {
   "cell_type": "code",
   "execution_count": 24,
   "id": "415b74d4",
   "metadata": {},
   "outputs": [
    {
     "name": "stdout",
     "output_type": "stream",
     "text": [
      "V: \n",
      " [[1.  1.  2. ]\n",
      " [0.  0.5 1. ]\n",
      " [0.  2.  1. ]]\n",
      "V * I: \n",
      " [[1.  1.  2. ]\n",
      " [0.  0.5 1. ]\n",
      " [0.  2.  1. ]]\n"
     ]
    }
   ],
   "source": [
    "print(\"V: \\n\", V)\n",
    "print(\"V * I: \\n\", (V.dot(I)))"
   ]
  },
  {
   "cell_type": "markdown",
   "id": "778462e1",
   "metadata": {},
   "source": [
    "Inverse"
   ]
  },
  {
   "cell_type": "code",
   "execution_count": 17,
   "id": "af93f972",
   "metadata": {},
   "outputs": [
    {
     "data": {
      "text/plain": [
       "array([[ 1.        , -2.        ,  0.        ],\n",
       "       [ 0.        , -0.66666667,  0.66666667],\n",
       "       [ 0.        ,  1.33333333, -0.33333333]])"
      ]
     },
     "execution_count": 17,
     "metadata": {},
     "output_type": "execute_result"
    }
   ],
   "source": [
    "V = np.array([\n",
    "    [1, 1, 2],\n",
    "    [0, 0.5, 1], \n",
    "    [0, 2, 1],\n",
    "])\n",
    "inv = np.linalg.inv(V)\n",
    "inv"
   ]
  },
  {
   "cell_type": "code",
   "execution_count": 25,
   "id": "9561fdb9",
   "metadata": {},
   "outputs": [
    {
     "data": {
      "text/plain": [
       "array([[1., 0., 0.],\n",
       "       [0., 1., 0.],\n",
       "       [0., 0., 1.]])"
      ]
     },
     "execution_count": 25,
     "metadata": {},
     "output_type": "execute_result"
    }
   ],
   "source": [
    "inv.dot(V)"
   ]
  }
 ],
 "metadata": {
  "kernelspec": {
   "display_name": "Python 3",
   "language": "python",
   "name": "python3"
  },
  "language_info": {
   "codemirror_mode": {
    "name": "ipython",
    "version": 3
   },
   "file_extension": ".py",
   "mimetype": "text/x-python",
   "name": "python",
   "nbconvert_exporter": "python",
   "pygments_lexer": "ipython3",
   "version": "3.12.1"
  }
 },
 "nbformat": 4,
 "nbformat_minor": 5
}
